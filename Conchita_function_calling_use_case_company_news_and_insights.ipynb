{
  "cells": [
    {
      "cell_type": "markdown",
      "metadata": {
        "id": "7c5e37584117"
      },
      "source": [
        "# Using Gemini Function Calling to Get Real-Time Company News and Insights\n",
        "\n"
      ]
    },
    {
      "cell_type": "markdown",
      "metadata": {
        "id": "7102b39c47f0"
      },
      "source": [
        "## Function Calling in Gemini\n",
        "\n",
        "Gemini is a family of generative AI models developed by Google DeepMind that is designed for multimodal use cases. [Function Calling in Gemini](https://cloud.google.com/vertex-ai/generative-ai/docs/multimodal/function-calling) lets developers create a description of a function in their code, then pass that description to a language model in a request. The response from the model includes the name of a function that matches the description and the arguments to call it with.\n",
        "\n",
        "## Overview\n",
        "\n",
        "Meet Jane. She's a busy investor who's always on the lookout for the latest market trends and financial news. She needs information quickly and accurately, but sifting through endless articles and reports is time-consuming.\n",
        "\n",
        "Jane discovers [Function Calling](https://cloud.google.com/vertex-ai/generative-ai/docs/multimodal/function-calling), which is a powerful tool that uses the Gemini model to predict function calls to external systems and synthesizes information in natural language. Now Jane can get instant insights on companies and breaking news, all within her familiar coding environment. She can even build a web app on top of these APIs and functions so that her coworkers can benefit from this approach without writing any code!"
      ]
    },
    {
      "cell_type": "markdown",
      "metadata": {
        "id": "be7720612149"
      },
      "source": [
        "![Standard Gemini Response](https://storage.googleapis.com/github-repo/generative-ai/gemini/function-calling/company_news_and_insights/standard-gemini-response.png)"
      ]
    },
    {
      "cell_type": "markdown",
      "metadata": {
        "id": "25543ba572f7"
      },
      "source": [
        "![Gemini with Function Calling](https://storage.googleapis.com/github-repo/generative-ai/gemini/function-calling/company_news_and_insights/gemini-function-calling-response.png)"
      ]
    },
    {
      "cell_type": "markdown",
      "metadata": {
        "id": "308fb67d0e91"
      },
      "source": [
        "Here's how Jane plans to interact with Gemini Function Calling to help her learn about stock prices, company profiles, and news about topics and trends that she's researching:\n",
        "\n",
        "### Financial Analysis\n",
        "\n",
        "- Jane wants to know about Google's current financial standing. She prompts Gemini to \"Give me a company overview of Google.\"\n",
        "- Behind the scenes, the application sends a request to an external API and retrieves comprehensive information about Google.\n",
        "- Gemini processes this data and presents Jane with a concise summary, highlighting key metrics and financial ratios.\n",
        "- Jane could also request a stock price with a simple prompt like \"Give me the current stock price for GOOG.\"\n",
        "    \n",
        "### News Insights\n",
        "\n",
        "- Jane wants to stay informed about the latest developments in AI. She prompts Gemini with \"What is the latest news on AI?\"\n",
        "- The application sends a request to a news API and collects relevant news articles from reliable sources.\n",
        "- Gemini analyzes the news and responds to Jane with a curated summary of the top headlines and key takeaways.\n",
        "\n",
        "This notebook demonstrates how Jane uses Function Calling in Gemini to interact with financial and news APIs to help her learn information about companies."
      ]
    },
    {
      "cell_type": "markdown",
      "metadata": {
        "id": "0f07a65d6572"
      },
      "source": [
        "### Benefits of Function Calling\n",
        "\n",
        "- **Native framework**: Function Calling is a native framework in Gemini, so there's no need to enable additional APIs or install extra packages.\n",
        "- **Time savings**: No need to write custom code to call, parse, and synthesize information from multiple APIs.\n",
        "- **Simplified interaction with generative AI models**: Gemini handles the complex task of understanding the user's intent, predicting function calls, extracting relevant function parameters, and generating natural language summaries.\n",
        "- **Versatility**: Easily extend capabilities by adding more function calls for different APIs and tailoring it to your needs.\n",
        "\n",
        "## Objectives\n",
        "\n",
        "In this tutorial, you will learn how to use the Vertex AI SDK for Python to work with financial and news APIs using the Gemini model and Function Calling.\n",
        "\n",
        "You will complete the following tasks:\n",
        "\n",
        "- Install the Vertex AI SDK for Python\n",
        "- Define functions to get company news, financial information, stock prices, and sentiment of company news\n",
        "- Initialize a chat session with the Gemini API\n",
        "- Write a helper function to handle function calls, API calls, and responses to the Gemini model\n",
        "- Ask questions about different aspects of companies and topics"
      ]
    },
    {
      "cell_type": "code",
      "source": [
        "from google.colab import auth\n",
        "auth.authenticate_user()"
      ],
      "metadata": {
        "id": "a-8xFx36XBDr"
      },
      "execution_count": null,
      "outputs": []
    },
    {
      "cell_type": "markdown",
      "metadata": {
        "id": "fcd6fe2a7b6d"
      },
      "source": [
        "## Getting Started\n",
        "\n",
        "### Install Vertex AI SDK and other required packages"
      ]
    },
    {
      "cell_type": "code",
      "execution_count": null,
      "metadata": {
        "id": "cc681958b8f7",
        "tags": [],
        "colab": {
          "base_uri": "https://localhost:8080/"
        },
        "outputId": "d1859939-73af-4a17-c788-fddb13c2f3ba"
      },
      "outputs": [
        {
          "output_type": "stream",
          "name": "stdout",
          "text": [
            "\u001b[?25l   \u001b[90m━━━━━━━━━━━━━━━━━━━━━━━━━━━━━━━━━━━━━━━━\u001b[0m \u001b[32m0.0/7.6 MB\u001b[0m \u001b[31m?\u001b[0m eta \u001b[36m-:--:--\u001b[0m\r\u001b[2K   \u001b[91m━━\u001b[0m\u001b[91m╸\u001b[0m\u001b[90m━━━━━━━━━━━━━━━━━━━━━━━━━━━━━━━━━━━━━\u001b[0m \u001b[32m0.5/7.6 MB\u001b[0m \u001b[31m16.1 MB/s\u001b[0m eta \u001b[36m0:00:01\u001b[0m\r\u001b[2K   \u001b[91m━━━━━━━━━━━━━━━━━━━\u001b[0m\u001b[90m╺\u001b[0m\u001b[90m━━━━━━━━━━━━━━━━━━━━\u001b[0m \u001b[32m3.7/7.6 MB\u001b[0m \u001b[31m52.5 MB/s\u001b[0m eta \u001b[36m0:00:01\u001b[0m\r\u001b[2K   \u001b[91m━━━━━━━━━━━━━━━━━━━━━━━━━━━━━━━━━━━━━━━\u001b[0m\u001b[91m╸\u001b[0m \u001b[32m7.6/7.6 MB\u001b[0m \u001b[31m80.0 MB/s\u001b[0m eta \u001b[36m0:00:01\u001b[0m\r\u001b[2K   \u001b[91m━━━━━━━━━━━━━━━━━━━━━━━━━━━━━━━━━━━━━━━\u001b[0m\u001b[91m╸\u001b[0m \u001b[32m7.6/7.6 MB\u001b[0m \u001b[31m80.0 MB/s\u001b[0m eta \u001b[36m0:00:01\u001b[0m\r\u001b[2K   \u001b[90m━━━━━━━━━━━━━━━━━━━━━━━━━━━━━━━━━━━━━━━━\u001b[0m \u001b[32m7.6/7.6 MB\u001b[0m \u001b[31m44.2 MB/s\u001b[0m eta \u001b[36m0:00:00\u001b[0m\n",
            "\u001b[?25h\u001b[31mERROR: pip's dependency resolver does not currently take into account all the packages that are installed. This behaviour is the source of the following dependency conflicts.\n",
            "jupyter-server 1.24.0 requires anyio<4,>=3.1.0, but you have anyio 4.9.0 which is incompatible.\u001b[0m\u001b[31m\n",
            "\u001b[0m"
          ]
        }
      ],
      "source": [
        "%pip install --upgrade --quiet google-cloud-aiplatform requests"
      ]
    },
    {
      "cell_type": "markdown",
      "metadata": {
        "id": "8ed31279f009"
      },
      "source": [
        "### Restart runtime\n",
        "\n",
        "To use the newly installed packages in this Jupyter runtime, you must restart the runtime. You can do this by running the cell below, which restarts the current kernel.\n",
        "\n",
        "The restart might take a minute or longer. After it's restarted, continue to the next step."
      ]
    },
    {
      "cell_type": "code",
      "execution_count": null,
      "metadata": {
        "colab": {
          "base_uri": "https://localhost:8080/"
        },
        "id": "567212ff53a6",
        "outputId": "8ec1c9d9-10a5-4391-e175-e990644ef68e",
        "tags": []
      },
      "outputs": [
        {
          "output_type": "execute_result",
          "data": {
            "text/plain": [
              "{'status': 'ok', 'restart': True}"
            ]
          },
          "metadata": {},
          "execution_count": 2
        }
      ],
      "source": [
        "import IPython\n",
        "\n",
        "app = IPython.Application.instance()\n",
        "app.kernel.do_shutdown(True)"
      ]
    },
    {
      "cell_type": "markdown",
      "metadata": {
        "id": "972161a99004"
      },
      "source": [
        "<div class=\"alert alert-block alert-warning\">\n",
        "<b>⚠️ The kernel is going to restart. Please wait until it is finished before continuing to the next step. ⚠️</b>\n",
        "</div>"
      ]
    },
    {
      "cell_type": "markdown",
      "metadata": {
        "id": "56e1e9ca7ddc"
      },
      "source": [
        "### Set Google Cloud project information and initialize Vertex AI SDK\n",
        "\n",
        "To get started using Vertex AI, you must have an existing Google Cloud project and [enable the Vertex AI API](https://console.cloud.google.com/flows/enableapi?apiid=aiplatform.googleapis.com).\n",
        "\n",
        "Learn more about [setting up a project and a development environment](https://cloud.google.com/vertex-ai/docs/start/cloud-environment)."
      ]
    },
    {
      "cell_type": "code",
      "execution_count": null,
      "metadata": {
        "id": "41c34a683156",
        "tags": []
      },
      "outputs": [],
      "source": [
        "PROJECT_ID = \"qwiklabs-asl-00-b36be5350648\"  # @param {type:\"string\"}\n",
        "LOCATION = \"us-central1\"  # @param {type:\"string\"}\n",
        "\n",
        "import vertexai\n",
        "\n",
        "vertexai.init(project=PROJECT_ID, location=LOCATION)"
      ]
    },
    {
      "cell_type": "markdown",
      "metadata": {
        "id": "26bcfc24e720"
      },
      "source": [
        "### Import libraries"
      ]
    },
    {
      "cell_type": "code",
      "execution_count": null,
      "metadata": {
        "id": "6d249cfcaf52",
        "tags": []
      },
      "outputs": [],
      "source": [
        "from IPython.display import Markdown, display\n",
        "import requests\n",
        "from vertexai.generative_models import (\n",
        "    FunctionDeclaration,\n",
        "    GenerationConfig,\n",
        "    GenerativeModel,\n",
        "    Part,\n",
        "    Tool,\n",
        ")"
      ]
    },
    {
      "cell_type": "markdown",
      "metadata": {
        "id": "a8a3a9ff0f3d"
      },
      "source": [
        "## Building an assistant to answer financial and news questions about companies\n",
        "\n",
        "With the initial setup complete, you're ready to build your application that uses the Gemini model, functions as tools, and API calls to explore financial and news information related to various companies and industries.\n",
        "\n",
        "Before we go through the following code examples, it's helpful to understand a conceptual model of the development journey that you're about to go on with Gemini Function Calling. The following diagram shows key steps that you'll follow along the way:"
      ]
    },
    {
      "cell_type": "markdown",
      "metadata": {
        "id": "1f968100a531"
      },
      "source": [
        "![Function Calling Steps](https://storage.googleapis.com/github-repo/generative-ai/gemini/function-calling/company_news_and_insights/function-calling-steps.png)"
      ]
    },
    {
      "cell_type": "markdown",
      "metadata": {
        "id": "bf4ba70381cd"
      },
      "source": [
        "### Define functions and parameter descriptions\n",
        "\n",
        "Define function declarations that will be used as tools for Gemini by specifying the function details as a dictionary in accordance with the [OpenAPI JSON schema](https://spec.openapis.org/oas/v3.0.3#schemawr).\n",
        "\n",
        "You'll define four tools to fetch various company and financial information, including stock prices, company overviews, news for a given company, and news sentiment for a given topic:"
      ]
    },
    {
      "cell_type": "code",
      "execution_count": null,
      "metadata": {
        "id": "82979452ed3f",
        "tags": []
      },
      "outputs": [],
      "source": [
        "get_stock_price = FunctionDeclaration(\n",
        "    name=\"get_stock_price\",\n",
        "    description=\"Fetch the current stock price of a given company\",\n",
        "    parameters={\n",
        "        \"type\": \"object\",\n",
        "        \"properties\": {\n",
        "            \"ticker\": {\n",
        "                \"type\": \"string\",\n",
        "                \"description\": \"Stock ticker symbol for a company\",\n",
        "            }\n",
        "        },\n",
        "    },\n",
        ")\n",
        "\n",
        "get_company_overview = FunctionDeclaration(\n",
        "    name=\"get_company_overview\",\n",
        "    description=\"Get company details and other financial data\",\n",
        "    parameters={\n",
        "        \"type\": \"object\",\n",
        "        \"properties\": {\n",
        "            \"ticker\": {\n",
        "                \"type\": \"string\",\n",
        "                \"description\": \"Stock ticker symbol for a company\",\n",
        "            }\n",
        "        },\n",
        "    },\n",
        ")\n",
        "\n",
        "get_company_news = FunctionDeclaration(\n",
        "    name=\"get_company_news\",\n",
        "    description=\"Get the latest news headlines for a given company.\",\n",
        "    parameters={\n",
        "        \"type\": \"object\",\n",
        "        \"properties\": {\n",
        "            \"tickers\": {\n",
        "                \"type\": \"string\",\n",
        "                \"description\": \"Stock ticker symbol for a company\",\n",
        "            }\n",
        "        },\n",
        "    },\n",
        ")\n",
        "\n",
        "get_news_with_sentiment = FunctionDeclaration(\n",
        "    name=\"get_news_with_sentiment\",\n",
        "    description=\"Gets live and historical market news and sentiment data\",\n",
        "    parameters={\n",
        "        \"type\": \"object\",\n",
        "        \"properties\": {\n",
        "            \"news_topic\": {\n",
        "                \"type\": \"string\",\n",
        "                \"description\": \"\"\"News topic to learn about. Supported topics\n",
        "                               include blockchain, earnings, ipo,\n",
        "                               mergers_and_acquisitions, financial_markets,\n",
        "                               economy_fiscal, economy_monetary, economy_macro,\n",
        "                               energy_transportation, finance, life_sciences,\n",
        "                               manufacturing, real_estate, retail_wholesale,\n",
        "                               and technology\"\"\",\n",
        "            },\n",
        "        },\n",
        "    },\n",
        ")"
      ]
    },
    {
      "cell_type": "markdown",
      "metadata": {
        "id": "43373d59999e"
      },
      "source": [
        "### Wrap function declarations in a tool\n",
        "\n",
        "Now, you can define a tool that will allow Gemini to select from the set of functions we've defined:"
      ]
    },
    {
      "cell_type": "code",
      "execution_count": null,
      "metadata": {
        "id": "8f75dcb05e2f",
        "tags": []
      },
      "outputs": [],
      "source": [
        "company_insights_tool = Tool(\n",
        "    function_declarations=[\n",
        "        get_stock_price,\n",
        "        get_company_overview,\n",
        "        get_company_news,\n",
        "        get_news_with_sentiment,\n",
        "    ],\n",
        ")"
      ]
    },
    {
      "cell_type": "markdown",
      "metadata": {
        "id": "7d4cc72d8e6c"
      },
      "source": [
        "### Company and financial information API\n",
        "\n",
        "Alpha Vantage provides real-time and historical financial market data through a set of data APIs. In this tutorial, you'll use the Alpha Vantage API to get stock prices, company information, and news about different industries.\n",
        "\n",
        "You can register for a free developer API key at [Alpha Vantage](https://www.alphavantage.co/). Once you have an API key, paste it into the cell below:"
      ]
    },
    {
      "cell_type": "code",
      "execution_count": null,
      "metadata": {
        "id": "643a1ff45db9",
        "tags": []
      },
      "outputs": [],
      "source": [
        "# API key for company and financial information\n",
        "API_KEY = \"YABKBX3QWAZVRSZ0\""
      ]
    },
    {
      "cell_type": "markdown",
      "metadata": {
        "id": "1e32e0694d45"
      },
      "source": [
        "You'll use this API key throughout the rest of this notebook to make API requests and get information about various companies and industries."
      ]
    },
    {
      "cell_type": "markdown",
      "metadata": {
        "id": "706839cf3dba"
      },
      "source": [
        "### Define Python functions and a function handler"
      ]
    },
    {
      "cell_type": "markdown",
      "metadata": {
        "id": "4ef2ec1e97eb"
      },
      "source": [
        "Define Python functions that you'll invoke to fetch data from an external API:"
      ]
    },
    {
      "cell_type": "code",
      "execution_count": null,
      "metadata": {
        "id": "81b9950967e1",
        "tags": []
      },
      "outputs": [],
      "source": [
        "def get_stock_price_from_api(content):\n",
        "    url = f\"https://www.alphavantage.co/query?function=GLOBAL_QUOTE&symbol={content['ticker']}&apikey={API_KEY}\"\n",
        "    api_request = requests.get(url)\n",
        "    return api_request.text\n",
        "\n",
        "\n",
        "def get_company_overview_from_api(content):\n",
        "    url = f\"https://www.alphavantage.co/query?function=OVERVIEW&symbol={content['ticker']}&apikey={API_KEY}\"\n",
        "    api_response = requests.get(url)\n",
        "    return api_response.text\n",
        "\n",
        "\n",
        "def get_company_news_from_api(content):\n",
        "    url = f\"https://www.alphavantage.co/query?function=NEWS_SENTIMENT&tickers={content['tickers']}&limit=20&sort=RELEVANCE&apikey={API_KEY}\"\n",
        "    api_response = requests.get(url)\n",
        "    return api_response.text\n",
        "\n",
        "\n",
        "def get_news_with_sentiment_from_api(content):\n",
        "    url = f\"https://www.alphavantage.co/query?function=NEWS_SENTIMENT&topics={content['news_topic']}&limit=20&sort=RELEVANCE&apikey={API_KEY}\"\n",
        "    api_request = requests.get(url)\n",
        "    return api_request.text"
      ]
    },
    {
      "cell_type": "markdown",
      "metadata": {
        "id": "a9f9c6b3fb4a"
      },
      "source": [
        "Define a function handler that maps function call names (from your function declarations) to actual Python functions that call APIs:"
      ]
    },
    {
      "cell_type": "code",
      "execution_count": null,
      "metadata": {
        "id": "900d2529a6ac",
        "tags": []
      },
      "outputs": [],
      "source": [
        "function_handler = {\n",
        "    \"get_stock_price\": get_stock_price_from_api,\n",
        "    \"get_company_overview\": get_company_overview_from_api,\n",
        "    \"get_company_news\": get_company_news_from_api,\n",
        "    \"get_news_with_sentiment\": get_news_with_sentiment_from_api,\n",
        "}"
      ]
    },
    {
      "cell_type": "markdown",
      "metadata": {
        "id": "87eb49d4fe0f"
      },
      "source": [
        "### Initialize model\n",
        "\n",
        "Initialize the Gemini model with the desired model parameters and `Tool` that we defined earlier:"
      ]
    },
    {
      "cell_type": "code",
      "execution_count": null,
      "metadata": {
        "id": "11cb17ef1096",
        "tags": []
      },
      "outputs": [],
      "source": [
        "gemini_model = GenerativeModel(\n",
        "    \"gemini-2.0-flash\",\n",
        "    generation_config=GenerationConfig(temperature=0),\n",
        "    tools=[company_insights_tool],\n",
        ")"
      ]
    },
    {
      "cell_type": "markdown",
      "metadata": {
        "id": "7cdfddffe83b"
      },
      "source": [
        "### Initialize chat session"
      ]
    },
    {
      "cell_type": "code",
      "execution_count": null,
      "metadata": {
        "id": "5be6ada7bb71",
        "tags": []
      },
      "outputs": [],
      "source": [
        "chat = gemini_model.start_chat()"
      ]
    },
    {
      "cell_type": "markdown",
      "metadata": {
        "id": "711af0ca6d5a"
      },
      "source": [
        "### Define a helper function to send chat messages and handle function calls & responses\n",
        "\n",
        "Before you start chatting with the Gemini model and making function calls, recall that Gemini Function Calling predicts a function call from a set of functions then returns structured information about which function to call and which parameters to use.\n",
        "\n",
        "The following diagram shows the data flow and step-by-step process that occurs with Gemini Function Calling for a given conversation turn (i.e., a single input prompt from the user and output summary to the user):"
      ]
    },
    {
      "cell_type": "markdown",
      "metadata": {
        "id": "7f5389c4a114"
      },
      "source": [
        "![Function Calling Architecture](https://storage.googleapis.com/github-repo/generative-ai/gemini/function-calling/company_news_and_insights/function-call-architecture.png)"
      ]
    },
    {
      "cell_type": "markdown",
      "metadata": {
        "id": "0e00b8dd9c4b"
      },
      "source": [
        "Rather than having to manually inspect the predicted function names and function parameters and then repeatedly invoking API calls, the following helper function automates the process of handling API calls and responses to and from the Gemini model:"
      ]
    },
    {
      "cell_type": "code",
      "execution_count": null,
      "metadata": {
        "id": "ohSSkAiWgucZ",
        "tags": []
      },
      "outputs": [],
      "source": [
        "def send_chat_message(prompt):\n",
        "    display(Markdown(\"#### Prompt\"))\n",
        "    print(prompt, \"\\n\")\n",
        "    prompt += \"\"\"\n",
        "    Give a concise, high-level summary. Only use information that you learn from\n",
        "    the API responses.\n",
        "    \"\"\"\n",
        "\n",
        "    # Send a chat message to the Gemini API\n",
        "    response = chat.send_message(prompt)\n",
        "\n",
        "    # Handle cases with multiple chained function calls\n",
        "    function_calling_in_process = True\n",
        "    while function_calling_in_process:\n",
        "        # Extract the function call response\n",
        "        # Check if the response has a function call\n",
        "        if response.candidates[0].content.parts[0].function_call is not None:\n",
        "            function_call = response.candidates[0].content.parts[0].function_call\n",
        "\n",
        "            # Check for a function call or a natural language response\n",
        "            if function_call.name in function_handler.keys():\n",
        "                # Extract the function call name\n",
        "                function_name = function_call.name\n",
        "                display(Markdown(\"#### Predicted function name\"))\n",
        "                print(function_name, \"\\n\")\n",
        "\n",
        "                # Extract the function call parameters\n",
        "                params = {key: value for key, value in function_call.args.items()}\n",
        "                display(Markdown(\"#### Predicted function parameters\"))\n",
        "                print(params, \"\\n\")\n",
        "\n",
        "                # Invoke a function that calls an external API\n",
        "                function_api_response = function_handler[function_name](params)[\n",
        "                    :20000\n",
        "                ]  # Stay within the input token limit\n",
        "                display(Markdown(\"#### API response\"))\n",
        "                print(function_api_response[:500], \"...\", \"\\n\")\n",
        "\n",
        "                # Send the API response back to Gemini, which will generate a natural language summary or another function call\n",
        "                response = chat.send_message(\n",
        "                    Part.from_function_response(\n",
        "                        name=function_name,\n",
        "                        response={\"content\": function_api_response},\n",
        "                    ),\n",
        "                )\n",
        "            else:\n",
        "                function_calling_in_process = False\n",
        "        else:\n",
        "            function_calling_in_process = False\n",
        "    # Show the final natural language summary\n",
        "    display(Markdown(\"#### Natural language response\"))\n",
        "    display(Markdown(response.text.replace(\"$\", \"\\\\\\\\$\")))"
      ]
    },
    {
      "cell_type": "markdown",
      "metadata": {
        "id": "5ea534893263"
      },
      "source": [
        "In the above helper function, the `while` loop handles cases in which the Gemini model predicts two or more chained Function Calls. The code within the `if` statement handles the invocation of function calls and API requests and responses. And the line of code in the `else` statement stops the Function Calling logic in the event that Gemini generates a natural language summary.\n",
        "\n",
        "### Ask questions about various companies and topics\n",
        "\n",
        "Now that you've defined your functions, initialized the Gemini model, and started a chat session, you're ready to ask questions!\n",
        "\n",
        "### Sample prompt related to stock price\n",
        "\n",
        "Start with a simple prompt that asks about a stock price:"
      ]
    },
    {
      "cell_type": "code",
      "execution_count": null,
      "metadata": {
        "colab": {
          "base_uri": "https://localhost:8080/",
          "height": 607
        },
        "id": "daf9c088624e",
        "outputId": "6941bcf6-60de-4a1a-b205-40bff63134e9",
        "tags": []
      },
      "outputs": [
        {
          "output_type": "display_data",
          "data": {
            "text/plain": [
              "<IPython.core.display.Markdown object>"
            ],
            "text/markdown": "#### Prompt"
          },
          "metadata": {}
        },
        {
          "output_type": "stream",
          "name": "stdout",
          "text": [
            "What is the current stock price for Google? \n",
            "\n"
          ]
        },
        {
          "output_type": "display_data",
          "data": {
            "text/plain": [
              "<IPython.core.display.Markdown object>"
            ],
            "text/markdown": "#### Predicted function name"
          },
          "metadata": {}
        },
        {
          "output_type": "stream",
          "name": "stdout",
          "text": [
            "get_stock_price \n",
            "\n"
          ]
        },
        {
          "output_type": "display_data",
          "data": {
            "text/plain": [
              "<IPython.core.display.Markdown object>"
            ],
            "text/markdown": "#### Predicted function parameters"
          },
          "metadata": {}
        },
        {
          "output_type": "stream",
          "name": "stdout",
          "text": [
            "{'ticker': 'GOOG'} \n",
            "\n"
          ]
        },
        {
          "output_type": "display_data",
          "data": {
            "text/plain": [
              "<IPython.core.display.Markdown object>"
            ],
            "text/markdown": "#### API response"
          },
          "metadata": {}
        },
        {
          "output_type": "stream",
          "name": "stdout",
          "text": [
            "{\n",
            "    \"Global Quote\": {\n",
            "        \"01. symbol\": \"GOOG\",\n",
            "        \"02. open\": \"165.7150\",\n",
            "        \"03. high\": \"167.9500\",\n",
            "        \"04. low\": \"165.4150\",\n",
            "        \"05. price\": \"167.8700\",\n",
            "        \"06. volume\": \"21374688\",\n",
            "        \"07. latest trading day\": \"2025-05-19\",\n",
            "        \"08. previous close\": \"167.4300\",\n",
            "        \"09. change\": \"0.4400\",\n",
            "        \"10. change percent\": \"0.2628%\"\n",
            "    }\n",
            "} ... \n",
            "\n"
          ]
        },
        {
          "output_type": "display_data",
          "data": {
            "text/plain": [
              "<IPython.core.display.Markdown object>"
            ],
            "text/markdown": "#### Natural language response"
          },
          "metadata": {}
        },
        {
          "output_type": "display_data",
          "data": {
            "text/plain": [
              "<IPython.core.display.Markdown object>"
            ],
            "text/markdown": "The current stock price for Google (GOOG) is \\\\$167.87 as of May 19, 2025. The price has changed by \\\\$0.44 (0.2628%) since the previous close.\n"
          },
          "metadata": {}
        }
      ],
      "source": [
        "send_chat_message(\"What is the current stock price for Google?\")"
      ]
    },
    {
      "cell_type": "markdown",
      "metadata": {
        "id": "0fc0ec32b4fe"
      },
      "source": [
        "#### How it works\n",
        "\n",
        "Nice work! The output includes a concise summary of the real-time stock price for Alphabet, Inc.\n",
        "\n",
        "Let's walk through the step-by-step end process that your application code went through, from the input prompt to the output summary:\n",
        "\n",
        "1. Gemini used information within your prompt and predicted the `get_stock_price()` function along with the ticker symbol `GOOG`.\n",
        "1. Your helper function then invoked an API call to retrieve the latest stock ticker information about Alphabet Inc.\n",
        "1. Once you returned the API response to Gemini, it used this information to generate a natural language summary with the stock price of Alphabet Inc.\n",
        "\n",
        "### Sample prompt related to company information"
      ]
    },
    {
      "cell_type": "code",
      "execution_count": null,
      "metadata": {
        "colab": {
          "base_uri": "https://localhost:8080/",
          "height": 505
        },
        "id": "04f4c36f5bb5",
        "outputId": "ed42f42a-fff9-482d-bdb6-f4e72d99c20b",
        "tags": []
      },
      "outputs": [
        {
          "output_type": "display_data",
          "data": {
            "text/plain": [
              "<IPython.core.display.Markdown object>"
            ],
            "text/markdown": "#### Prompt"
          },
          "metadata": {}
        },
        {
          "output_type": "stream",
          "name": "stdout",
          "text": [
            "Give me a company overview of Google \n",
            "\n"
          ]
        },
        {
          "output_type": "display_data",
          "data": {
            "text/plain": [
              "<IPython.core.display.Markdown object>"
            ],
            "text/markdown": "#### Predicted function name"
          },
          "metadata": {}
        },
        {
          "output_type": "stream",
          "name": "stdout",
          "text": [
            "get_company_overview \n",
            "\n"
          ]
        },
        {
          "output_type": "display_data",
          "data": {
            "text/plain": [
              "<IPython.core.display.Markdown object>"
            ],
            "text/markdown": "#### Predicted function parameters"
          },
          "metadata": {}
        },
        {
          "output_type": "stream",
          "name": "stdout",
          "text": [
            "{'ticker': 'GOOG'} \n",
            "\n"
          ]
        },
        {
          "output_type": "display_data",
          "data": {
            "text/plain": [
              "<IPython.core.display.Markdown object>"
            ],
            "text/markdown": "#### API response"
          },
          "metadata": {}
        },
        {
          "output_type": "stream",
          "name": "stdout",
          "text": [
            "{\n",
            "    \"Symbol\": \"GOOG\",\n",
            "    \"AssetType\": \"Common Stock\",\n",
            "    \"Name\": \"Alphabet Inc Class C\",\n",
            "    \"Description\": \"Alphabet Inc. is an American multinational conglomerate headquartered in Mountain View, California. It was created through a restructuring of Google on October 2, 2015, and became the parent company of Google and several former Google subsidiaries. The two co-founders of Google remained as controlling shareholders, board members, and employees at Alphabet. Alphabet is the world's four ... \n",
            "\n"
          ]
        },
        {
          "output_type": "display_data",
          "data": {
            "text/plain": [
              "<IPython.core.display.Markdown object>"
            ],
            "text/markdown": "#### Natural language response"
          },
          "metadata": {}
        },
        {
          "output_type": "display_data",
          "data": {
            "text/plain": [
              "<IPython.core.display.Markdown object>"
            ],
            "text/markdown": "Alphabet Inc. (GOOG), the parent company of Google, is a multinational technology conglomerate headquartered in Mountain View, California. It is the world's fourth-largest technology company by revenue. Google's latest quarter was on March 31, 2025, and its fiscal year ends in December. The company's market capitalization is approximately \\\\$2.02 trillion, with an EBITDA of \\\\$135.71 billion. The analyst target price is \\\\$199.31.\n"
          },
          "metadata": {}
        }
      ],
      "source": [
        "send_chat_message(\"Give me a company overview of Google\")"
      ]
    },
    {
      "cell_type": "markdown",
      "metadata": {
        "id": "12b76d95eb48"
      },
      "source": [
        "#### How it works\n",
        "\n",
        "For this prompt, Gemini predicted the `get_company_overview()` function along with the ticker symbol `GOOG`. The logic within your helper function handled the API call, and the natural language response generated by Gemini includes information about financial metrics, a company description, and stock details.\n",
        "\n",
        "### Sample prompt for information about multiple companies\n",
        "\n",
        "Now, see what happens what you ask about two different companies:"
      ]
    },
    {
      "cell_type": "code",
      "execution_count": null,
      "metadata": {
        "id": "uaTpjdn0hLI0",
        "tags": []
      },
      "outputs": [],
      "source": [
        "def send_chat_message(prompt):\n",
        "    display(Markdown(\"#### Prompt\"))\n",
        "    print(prompt, \"\\n\")\n",
        "    prompt += \"\"\"\n",
        "    Give a concise, high-level summary. Only use information that you learn from\n",
        "    the API responses.\n",
        "    \"\"\"\n",
        "\n",
        "    # Send a chat message to the Gemini API\n",
        "    response = chat.send_message(prompt)\n",
        "\n",
        "    # Handle cases with multiple chained function calls\n",
        "    function_calling_in_process = True\n",
        "    while function_calling_in_process:\n",
        "        # Extract the function call response\n",
        "        # Check if the response has a function call\n",
        "        if response.candidates[0].content.parts[0].function_call is not None:\n",
        "            function_call = response.candidates[0].content.parts[0].function_call\n",
        "\n",
        "            # Check for a function call or a natural language response\n",
        "            if function_call.name in function_handler.keys():\n",
        "                # Extract the function call name\n",
        "                function_name = function_call.name\n",
        "                display(Markdown(\"#### Predicted function name\"))\n",
        "                print(function_name, \"\\n\")\n",
        "\n",
        "                # Extract the function call parameters\n",
        "                params = {key: value for key, value in function_call.args.items()}\n",
        "                display(Markdown(\"#### Predicted function parameters\"))\n",
        "                print(params, \"\\n\")\n",
        "\n",
        "                # Invoke a function that calls an external API\n",
        "                function_api_response = function_handler[function_name](params)[\n",
        "                    :20000\n",
        "                ]  # Stay within the input token limit\n",
        "                display(Markdown(\"#### API response\"))\n",
        "                print(function_api_response[:500], \"...\", \"\\n\")\n",
        "\n",
        "                # Send the API response back to Gemini, which will generate a natural language summary or another function call\n",
        "\n",
        "                # **Change: Create a list of Part objects for each function call.**\n",
        "                response_parts = [Part.from_function_response(\n",
        "                        name=function_name,\n",
        "                        response={\"content\": function_api_response},\n",
        "                    )]\n",
        "\n",
        "                # **Change: Handle multiple function calls in a single turn**\n",
        "                if len(response.candidates[0].content.parts) > 1:\n",
        "                    for part in response.candidates[0].content.parts[1:]:\n",
        "                        if part.function_call is not None:\n",
        "                            function_call = part.function_call\n",
        "                            if function_call.name in function_handler.keys():\n",
        "                                function_name = function_call.name\n",
        "                                params = {key: value for key, value in function_call.args.items()}\n",
        "                                function_api_response = function_handler[function_name](params)[:20000]\n",
        "                                response_parts.append(Part.from_function_response(\n",
        "                                    name=function_name,\n",
        "                                    response={\"content\": function_api_response},\n",
        "                                ))\n",
        "\n",
        "                # **Change: Send all the responses back to Gemini at once, but as a single list.**\n",
        "                response = chat.send_message(response_parts) # Send a list of Part object instead of multiple unpacked items\n",
        "\n",
        "            else:\n",
        "                function_calling_in_process = False\n",
        "        else:\n",
        "            function_calling_in_process = False\n",
        "    # Show the final natural language summary\n",
        "    display(Markdown(\"#### Natural language response\"))\n",
        "    display(Markdown(response.text.replace(\"$\", \"\\\\\\\\$\")))"
      ]
    },
    {
      "cell_type": "code",
      "execution_count": null,
      "metadata": {
        "colab": {
          "base_uri": "https://localhost:8080/",
          "height": 668
        },
        "id": "c377e4b2d33b",
        "outputId": "dd9b76df-6674-4bdb-e035-d2550ec7764c",
        "tags": []
      },
      "outputs": [
        {
          "output_type": "display_data",
          "data": {
            "text/plain": [
              "<IPython.core.display.Markdown object>"
            ],
            "text/markdown": "#### Prompt"
          },
          "metadata": {}
        },
        {
          "output_type": "stream",
          "name": "stdout",
          "text": [
            "Give me a company overview of Walmart and The Home Depot \n",
            "\n"
          ]
        },
        {
          "output_type": "display_data",
          "data": {
            "text/plain": [
              "<IPython.core.display.Markdown object>"
            ],
            "text/markdown": "#### Predicted function name"
          },
          "metadata": {}
        },
        {
          "output_type": "stream",
          "name": "stdout",
          "text": [
            "get_company_overview \n",
            "\n"
          ]
        },
        {
          "output_type": "display_data",
          "data": {
            "text/plain": [
              "<IPython.core.display.Markdown object>"
            ],
            "text/markdown": "#### Predicted function parameters"
          },
          "metadata": {}
        },
        {
          "output_type": "stream",
          "name": "stdout",
          "text": [
            "{'ticker': 'WMT'} \n",
            "\n"
          ]
        },
        {
          "output_type": "display_data",
          "data": {
            "text/plain": [
              "<IPython.core.display.Markdown object>"
            ],
            "text/markdown": "#### API response"
          },
          "metadata": {}
        },
        {
          "output_type": "stream",
          "name": "stdout",
          "text": [
            "{\n",
            "    \"Symbol\": \"WMT\",\n",
            "    \"AssetType\": \"Common Stock\",\n",
            "    \"Name\": \"Walmart Inc\",\n",
            "    \"Description\": \"Walmart Inc. is an American multinational retail corporation that operates a chain of hypermarkets, discount department stores, and grocery stores from the United States, headquartered in Bentonville, Arkansas. It also owns and operates Sam's Club retail warehouses.\",\n",
            "    \"CIK\": \"104169\",\n",
            "    \"Exchange\": \"NYSE\",\n",
            "    \"Currency\": \"USD\",\n",
            "    \"Country\": \"USA\",\n",
            "    \"Sector\": \"TRADE & SERVICES\",\n",
            "     ... \n",
            "\n"
          ]
        },
        {
          "output_type": "display_data",
          "data": {
            "text/plain": [
              "<IPython.core.display.Markdown object>"
            ],
            "text/markdown": "#### Natural language response"
          },
          "metadata": {}
        },
        {
          "output_type": "display_data",
          "data": {
            "text/plain": [
              "<IPython.core.display.Markdown object>"
            ],
            "text/markdown": "Walmart Inc. (WMT) is a multinational retail corporation operating hypermarkets, discount department stores, and grocery stores. It is headquartered in Bentonville, Arkansas. Walmart's latest quarter was on January 31, 2025, and its fiscal year ends in January. The company's market capitalization is approximately \\\\$786 billion, with an EBITDA of \\\\$42.5 billion. The analyst target price is \\\\$107.88.\n\nThe Home Depot, Inc. (HD) is the largest home improvement retailer in the United States, supplying tools, construction products, and services. The company is headquartered in Atlanta, Georgia. Home Depot's latest quarter was on January 31, 2025, and its fiscal year ends in January. The company's market capitalization is approximately \\\\$378.47 billion, with an EBITDA of \\\\$25.29 billion. The analyst target price is \\\\$418.7.\n"
          },
          "metadata": {}
        }
      ],
      "source": [
        "send_chat_message(\"Give me a company overview of Walmart and The Home Depot\")"
      ]
    },
    {
      "cell_type": "markdown",
      "metadata": {
        "id": "6989344d0365"
      },
      "source": [
        "#### How it works\n",
        "\n",
        "Great! This time, Gemini predicted the use of two subsequent function calls to `get_company_overview()`, one for each ticker symbol. The logic within your helper function handled the chained function calls, and the natural language response generated by Gemini includes information about both companies.\n",
        "\n",
        "### Sample prompt related to company news\n",
        "\n",
        "Ask a question about the latest news related to a particular company:"
      ]
    },
    {
      "cell_type": "code",
      "execution_count": null,
      "metadata": {
        "colab": {
          "base_uri": "https://localhost:8080/",
          "height": 633
        },
        "id": "50edfeabd1c4",
        "outputId": "416fc4e5-b1f0-4506-b544-0be6c77f8598",
        "tags": []
      },
      "outputs": [
        {
          "output_type": "display_data",
          "data": {
            "text/plain": [
              "<IPython.core.display.Markdown object>"
            ],
            "text/markdown": "#### Prompt"
          },
          "metadata": {}
        },
        {
          "output_type": "stream",
          "name": "stdout",
          "text": [
            "What's the latest news about Google? \n",
            "\n"
          ]
        },
        {
          "output_type": "display_data",
          "data": {
            "text/plain": [
              "<IPython.core.display.Markdown object>"
            ],
            "text/markdown": "#### Predicted function name"
          },
          "metadata": {}
        },
        {
          "output_type": "stream",
          "name": "stdout",
          "text": [
            "get_company_news \n",
            "\n"
          ]
        },
        {
          "output_type": "display_data",
          "data": {
            "text/plain": [
              "<IPython.core.display.Markdown object>"
            ],
            "text/markdown": "#### Predicted function parameters"
          },
          "metadata": {}
        },
        {
          "output_type": "stream",
          "name": "stdout",
          "text": [
            "{'tickers': 'GOOG'} \n",
            "\n"
          ]
        },
        {
          "output_type": "display_data",
          "data": {
            "text/plain": [
              "<IPython.core.display.Markdown object>"
            ],
            "text/markdown": "#### API response"
          },
          "metadata": {}
        },
        {
          "output_type": "stream",
          "name": "stdout",
          "text": [
            "{\n",
            "    \"items\": \"50\",\n",
            "    \"sentiment_score_definition\": \"x <= -0.35: Bearish; -0.35 < x <= -0.15: Somewhat-Bearish; -0.15 < x < 0.15: Neutral; 0.15 <= x < 0.35: Somewhat_Bullish; x >= 0.35: Bullish\",\n",
            "    \"relevance_score_definition\": \"0 < x <= 1, with a higher score indicating higher relevance.\",\n",
            "    \"feed\": [\n",
            "        {\n",
            "            \"title\": \"Google to political ads using AI: Be 'clear' about any digitally-created content\",\n",
            "            \"url\": \"https://www.marketwatch.com/story/google-to-political- ... \n",
            "\n"
          ]
        },
        {
          "output_type": "display_data",
          "data": {
            "text/plain": [
              "<IPython.core.display.Markdown object>"
            ],
            "text/markdown": "#### Natural language response"
          },
          "metadata": {}
        },
        {
          "output_type": "display_data",
          "data": {
            "text/plain": [
              "<IPython.core.display.Markdown object>"
            ],
            "text/markdown": "Here's a summary of recent news headlines for Google:\n\n*   **AI in Political Ads:** Google is requiring political ads that use AI to clearly disclose any digitally created content.\n*   **YouTube CEO Stepping Down:** YouTube CEO Susan Wojcicki is stepping down after nearly a decade and will be succeeded by Neal Mohan.\n*   **Scrapped AI Chatbot:** Google has reportedly stopped development of an AI-powered chatbot targeted at Gen Z.\n*   **Waze Workforce Reduction:** Google is reducing the workforce at Waze as it integrates its advertising system with Google Ads.\n*   **Google Play Migration:** Google is moving movies and TV shows from the Play Store to its redesigned TV app.\n*   **Emoji Reactions in Docs:** Google is adding emoji reactions to Docs and drag-and-drop image functionality to Sheets."
          },
          "metadata": {}
        }
      ],
      "source": [
        "send_chat_message(\"What's the latest news about Google?\")"
      ]
    },
    {
      "cell_type": "markdown",
      "metadata": {
        "id": "8ed746e33ba0"
      },
      "source": [
        "#### How it works\n",
        "\n",
        "For this prompt, Gemini predicted the `get_company_news()` function. The logic within your helper function handled the API call, and the natural language response generated by Gemini includes the latest news related to Google.\n",
        "\n",
        "### Sample prompt related to industry news\n",
        "\n",
        "Now, try sending a prompt about news for a particular industry:"
      ]
    },
    {
      "cell_type": "code",
      "execution_count": null,
      "metadata": {
        "colab": {
          "base_uri": "https://localhost:8080/",
          "height": 633
        },
        "id": "f912100fcddc",
        "outputId": "c109da6f-35c6-4edf-cff1-9ab87208a103",
        "tags": []
      },
      "outputs": [
        {
          "output_type": "display_data",
          "data": {
            "text/plain": [
              "<IPython.core.display.Markdown object>"
            ],
            "text/markdown": "#### Prompt"
          },
          "metadata": {}
        },
        {
          "output_type": "stream",
          "name": "stdout",
          "text": [
            "Has there been any exciting news related to real estate recently? \n",
            "\n"
          ]
        },
        {
          "output_type": "display_data",
          "data": {
            "text/plain": [
              "<IPython.core.display.Markdown object>"
            ],
            "text/markdown": "#### Predicted function name"
          },
          "metadata": {}
        },
        {
          "output_type": "stream",
          "name": "stdout",
          "text": [
            "get_news_with_sentiment \n",
            "\n"
          ]
        },
        {
          "output_type": "display_data",
          "data": {
            "text/plain": [
              "<IPython.core.display.Markdown object>"
            ],
            "text/markdown": "#### Predicted function parameters"
          },
          "metadata": {}
        },
        {
          "output_type": "stream",
          "name": "stdout",
          "text": [
            "{'news_topic': 'real_estate'} \n",
            "\n"
          ]
        },
        {
          "output_type": "display_data",
          "data": {
            "text/plain": [
              "<IPython.core.display.Markdown object>"
            ],
            "text/markdown": "#### API response"
          },
          "metadata": {}
        },
        {
          "output_type": "stream",
          "name": "stdout",
          "text": [
            "{\n",
            "    \"items\": \"50\",\n",
            "    \"sentiment_score_definition\": \"x <= -0.35: Bearish; -0.35 < x <= -0.15: Somewhat-Bearish; -0.15 < x < 0.15: Neutral; 0.15 <= x < 0.35: Somewhat_Bullish; x >= 0.35: Bullish\",\n",
            "    \"relevance_score_definition\": \"0 < x <= 1, with a higher score indicating higher relevance.\",\n",
            "    \"feed\": [\n",
            "        {\n",
            "            \"title\": \"Here's How Much $100 Invested In Green Brick Partners 5 Years Ago Would Be Worth Today - Green Brick Partners  ( NYSE:GRBK ) \",\n",
            "            \"url\": \"https://w ... \n",
            "\n"
          ]
        },
        {
          "output_type": "display_data",
          "data": {
            "text/plain": [
              "<IPython.core.display.Markdown object>"
            ],
            "text/markdown": "#### Natural language response"
          },
          "metadata": {}
        },
        {
          "output_type": "display_data",
          "data": {
            "text/plain": [
              "<IPython.core.display.Markdown object>"
            ],
            "text/markdown": "Here's a quick rundown of recent real estate news:\n\n*   **Green Brick Partners (GRBK) Outperforms:** A \\\\$100 investment in Green Brick Partners (GRBK) 5 years ago would be worth significantly more today, outperforming the market with an annualized return of 37.37%.\n*   **Prologis (PLD) Gains:** Despite a market dip, Prologis (PLD) showed a positive move in the latest trading session.\n*   **KB Home (KBH) Increases:** KB Home (KBH) also saw an increase in its stock price despite the market's slip.\n*   **Arbor Realty Trust (ABR) Gains:** Arbor Realty Trust (ABR) experienced a gain in the recent trading day.\n*   **AECOM (ACM) Stock Gains:** AECOM stock has gained 25% in 6 months."
          },
          "metadata": {}
        }
      ],
      "source": [
        "send_chat_message(\"Has there been any exciting news related to real estate recently?\")"
      ]
    },
    {
      "cell_type": "markdown",
      "metadata": {
        "id": "a94de4cd2309"
      },
      "source": [
        "#### How it works\n",
        "\n",
        "This time, Gemini predicted the `get_news_with_sentiment()` function along with the function parameter `real_estate` as defined in your `FunctionDeclaration`. The logic within your helper function handled the API call, and the natural language response generated by Gemini includes the latest news and sentiment in the real estate industry.\n",
        "\n",
        "### Summary\n",
        "\n",
        "This tutorial highlights how Gemini Function Calling helps bridge the gap between raw data and actionable insights. This functionality empowers users to ask questions in natural language, our application code makes API calls to retrieve the latest relevant information, then the Gemini model summarizes the results from one or more API calls.\n",
        "\n",
        "We're excited to see how you'll use Gemini Function calling to build generative AI applications that can help users make informed decisions, whether they are investors like Jane, or anyone who's looking to combine the power of generative AI models with reliable and up-to-date information from external data sources.\n",
        "\n",
        "Feel free to try sending additional prompts, editing the function declarations, or even adding your own. Happy Function Calling!"
      ]
    },
    {
      "cell_type": "code",
      "execution_count": null,
      "metadata": {
        "id": "krUFg8fIW6ll"
      },
      "outputs": [],
      "source": []
    },
    {
      "cell_type": "code",
      "execution_count": null,
      "metadata": {
        "id": "TUVU1gTVW6ll"
      },
      "outputs": [],
      "source": []
    }
  ],
  "metadata": {
    "colab": {
      "provenance": [],
      "name": "Conchita_function_calling_use_case_company_news_and_insights.ipynb"
    },
    "environment": {
      "kernel": "conda-base-py",
      "name": "workbench-notebooks.m128",
      "type": "gcloud",
      "uri": "us-docker.pkg.dev/deeplearning-platform-release/gcr.io/workbench-notebooks:m128"
    },
    "kernelspec": {
      "display_name": "Python 3 (ipykernel) (Local)",
      "language": "python",
      "name": "conda-base-py"
    },
    "language_info": {
      "codemirror_mode": {
        "name": "ipython",
        "version": 3
      },
      "file_extension": ".py",
      "mimetype": "text/x-python",
      "name": "python",
      "nbconvert_exporter": "python",
      "pygments_lexer": "ipython3",
      "version": "3.10.16"
    }
  },
  "nbformat": 4,
  "nbformat_minor": 0
}