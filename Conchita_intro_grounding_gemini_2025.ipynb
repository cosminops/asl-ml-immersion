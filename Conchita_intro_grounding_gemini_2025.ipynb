{
  "cells": [
    {
      "cell_type": "markdown",
      "metadata": {
        "id": "JAPoU8Sm5E6e"
      },
      "source": [
        "# Getting Started with Google Search as a Tool with Gemini in Vertex AI\n",
        "\n",
        "         "
      ]
    },
    {
      "cell_type": "markdown",
      "metadata": {
        "id": "tvgnzT1CKxrO"
      },
      "source": [
        "## Overview\n",
        "\n",
        "\n",
        "\n",
        "[Grounding in Vertex AI](https://cloud.google.com/vertex-ai/generative-ai/docs/multimodal/ground-gemini) lets you use generative text models to generate content grounded in your own documents and data. This capability lets the model access information at runtime that goes beyond its training data. By grounding model responses in Google Search results or data stores within [Vertex AI Search](https://cloud.google.com/generative-ai-app-builder/docs/enterprise-search-introduction), LLMs that are grounded in data can produce more accurate, up-to-date, and relevant responses.\n",
        "\n",
        "Grounding provides the following benefits:\n",
        "\n",
        "- Reduces model hallucinations (instances where the model generates content that isn't factual)\n",
        "- Anchors model responses to specific information, documents, and data sources\n",
        "- Enhances the trustworthiness, accuracy, and applicability of the generated content\n",
        "\n",
        "You can configure two different sources of grounding in Vertex AI:\n",
        "\n",
        "1. Google Search results for data that is publicly available and indexed.\n",
        "   - If you use this service in a production application, you will also need to [use a Google Search entry point](https://cloud.google.com/vertex-ai/generative-ai/docs/multimodal/grounding-search-entry-points).\n",
        "2. [Data stores in Vertex AI Search](https://cloud.google.com/generative-ai-app-builder/docs/create-datastore-ingest), which can include your own data in the form of website data, unstructured data, or structured data"
      ]
    },
    {
      "cell_type": "markdown",
      "metadata": {
        "id": "d975e698c9a4"
      },
      "source": [
        "### Objective\n",
        "\n",
        "In this tutorial, you learn how to:\n",
        "\n",
        "- Generate LLM text and chat model responses grounded in Google Search results\n",
        "- Compare the results of ungrounded LLM responses with grounded LLM responses\n",
        "- Create and use a data store in Vertex AI Search to ground responses in custom documents and data\n",
        "- Generate LLM text and chat model responses grounded in Vertex AI Search results\n",
        "\n",
        "This tutorial uses the following Google Cloud AI services and resources:\n",
        "\n",
        "- Vertex AI\n",
        "- Vertex AI Search and Conversation\n",
        "\n",
        "The steps performed include:\n",
        "\n",
        "- Configuring the LLM and prompt for various examples\n",
        "- Sending example prompts to generative text and chat models in Vertex AI\n",
        "- Setting up a data store in Vertex AI Search with your own data\n",
        "- Sending example prompts with various levels of grounding (no grounding, web grounding, data store grounding)"
      ]
    },
    {
      "cell_type": "markdown",
      "metadata": {
        "id": "i7EUnXsZhAGF"
      },
      "source": [
        "### Install Google Gen AI SDK for Python\n",
        "\n",
        "Install the following packages required to execute this notebook."
      ]
    },
    {
      "cell_type": "code",
      "execution_count": null,
      "metadata": {
        "id": "2b4ef9b72d43",
        "colab": {
          "base_uri": "https://localhost:8080/"
        },
        "outputId": "23b066dd-c2c2-4ffb-b800-75000d79445d"
      },
      "outputs": [
        {
          "output_type": "stream",
          "name": "stdout",
          "text": [
            "\u001b[?25l   \u001b[90m━━━━━━━━━━━━━━━━━━━━━━━━━━━━━━━━━━━━━━━━\u001b[0m \u001b[32m0.0/196.3 kB\u001b[0m \u001b[31m?\u001b[0m eta \u001b[36m-:--:--\u001b[0m\r\u001b[2K   \u001b[90m━━━━━━━━━━━━━━━━━━━━━━━━━━━━━━━━━━━━━━━━\u001b[0m \u001b[32m196.3/196.3 kB\u001b[0m \u001b[31m6.2 MB/s\u001b[0m eta \u001b[36m0:00:00\u001b[0m\n",
            "\u001b[?25h"
          ]
        }
      ],
      "source": [
        "%pip install --upgrade --user --quiet google-genai"
      ]
    },
    {
      "cell_type": "markdown",
      "metadata": {
        "id": "58707a750154"
      },
      "source": [
        "Restart the kernel after installing packages:"
      ]
    },
    {
      "cell_type": "code",
      "execution_count": null,
      "metadata": {
        "id": "f200f10a1da3",
        "colab": {
          "base_uri": "https://localhost:8080/"
        },
        "outputId": "cc5f2c3b-ad2c-46f3-dba3-263d2f2fb1ba"
      },
      "outputs": [
        {
          "output_type": "execute_result",
          "data": {
            "text/plain": [
              "{'status': 'ok', 'restart': True}"
            ]
          },
          "metadata": {},
          "execution_count": 2
        }
      ],
      "source": [
        "import IPython\n",
        "\n",
        "app = IPython.Application.instance()\n",
        "app.kernel.do_shutdown(True)"
      ]
    },
    {
      "cell_type": "markdown",
      "metadata": {
        "id": "bb05997a457d"
      },
      "source": [
        "<div class=\"alert alert-block alert-warning\">\n",
        "<b>⚠️ The kernel is going to restart. Please wait until it is finished before continuing to the next step. ⚠️</b>\n",
        "</div>"
      ]
    },
    {
      "cell_type": "markdown",
      "metadata": {
        "id": "sBCra4QMA2wR"
      },
      "source": [
        "### Authenticate your Google Cloud account\n",
        "\n",
        "If you are running this notebook on Google Colab, you will need to authenticate your environment. To do this, run the new cell below. This step is not required if you are using Vertex AI Workbench."
      ]
    },
    {
      "cell_type": "code",
      "execution_count": null,
      "metadata": {
        "id": "603adbbf0532"
      },
      "outputs": [],
      "source": [
        "import sys\n",
        "\n",
        "if \"google.colab\" in sys.modules:\n",
        "    # Authenticate user to Google Cloud\n",
        "    from google.colab import auth\n",
        "\n",
        "    auth.authenticate_user()"
      ]
    },
    {
      "cell_type": "code",
      "execution_count": null,
      "metadata": {
        "id": "oM1iC_MfAts1"
      },
      "outputs": [],
      "source": [
        "import os\n",
        "\n",
        "from google import genai\n",
        "\n",
        "PROJECT_ID = \"qwiklabs-asl-00-b36be5350648\"  # @param {type: \"string\"}\n",
        "if not PROJECT_ID or PROJECT_ID == \"[your-project-id]\":\n",
        "    PROJECT_ID = str(os.environ.get(\"GOOGLE_CLOUD_PROJECT\"))\n",
        "\n",
        "LOCATION = os.environ.get(\"GOOGLE_CLOUD_REGION\", \"us-central1\")\n",
        "\n",
        "client = genai.Client(vertexai=True, project=PROJECT_ID, location=LOCATION)"
      ]
    },
    {
      "cell_type": "markdown",
      "metadata": {
        "id": "960505627ddf"
      },
      "source": [
        "### Import libraries"
      ]
    },
    {
      "cell_type": "code",
      "execution_count": null,
      "metadata": {
        "id": "PyQmSRbKA8r-"
      },
      "outputs": [],
      "source": [
        "from IPython.display import Markdown, display\n",
        "from google.genai.types import (\n",
        "    GenerateContentConfig,\n",
        "    GoogleSearch,\n",
        "    Retrieval,\n",
        "    Tool,\n",
        "    VertexAISearch,\n",
        ")"
      ]
    },
    {
      "cell_type": "markdown",
      "metadata": {
        "id": "55cf2dd17690"
      },
      "source": [
        "Initialize the Gemini model from Vertex AI:"
      ]
    },
    {
      "cell_type": "code",
      "execution_count": null,
      "metadata": {
        "id": "652a8969dd5a"
      },
      "outputs": [],
      "source": [
        "MODEL_ID = \"gemini-2.0-flash-001\"  # @param {type: \"string\"}"
      ]
    },
    {
      "cell_type": "markdown",
      "metadata": {
        "id": "e336da7161af"
      },
      "source": [
        "## Example: Grounding with Google Search results\n",
        "\n",
        "In this example, you'll compare LLM responses with no grounding with responses that are grounded in the results of a Google Search. You'll ask a question about a the most recent solar eclipse."
      ]
    },
    {
      "cell_type": "code",
      "execution_count": null,
      "metadata": {
        "id": "6a28ca4abb52"
      },
      "outputs": [],
      "source": [
        "PROMPT = \"You are an expert in astronomy. When is the next solar eclipse in the US?\""
      ]
    },
    {
      "cell_type": "markdown",
      "metadata": {
        "id": "25955ce5d263"
      },
      "source": [
        "### Text generation without grounding\n",
        "\n",
        "Make a prediction request to the LLM with no grounding:"
      ]
    },
    {
      "cell_type": "code",
      "execution_count": null,
      "metadata": {
        "id": "a2e348ff93e6",
        "colab": {
          "base_uri": "https://localhost:8080/",
          "height": 424
        },
        "outputId": "084c31e2-a3da-49af-f56d-240e6acdbdde"
      },
      "outputs": [
        {
          "output_type": "display_data",
          "data": {
            "text/plain": [
              "<IPython.core.display.Markdown object>"
            ],
            "text/markdown": "Alright, let's talk solar eclipses!\n\nThe next solar eclipse visible in the United States will be an **annular solar eclipse on October 14, 2023**.\n\nHere's a little more information about it:\n\n*   **Type:** Annular. This means the Moon will pass in front of the Sun, but it won't completely cover it. Instead, a bright ring of sunlight will be visible around the Moon's silhouette – often referred to as a \"ring of fire\".\n\n*   **Path:** The path of annularity (where the ring of fire is visible) will stretch across parts of the western United States, including:\n\n    *   Oregon\n    *   California\n    *   Nevada\n    *   Utah\n    *   Arizona\n    *   Colorado\n    *   New Mexico\n    *   Texas\n\n*   **Partial Eclipse:** A partial solar eclipse will be visible across a much wider area of North America, including the rest of the US. This means people outside the path of annularity will still see the Moon cover a portion of the Sun.\n\n**Important Safety Note:** Never look directly at the Sun without proper eye protection during a solar eclipse. Use certified solar viewing glasses (eclipse glasses) or a handheld solar viewer that meets the ISO 12312-2 international safety standard. Sunglasses are not safe for viewing a solar eclipse.\n\nDo you have any other questions about solar eclipses or astronomy in general? I'd be happy to answer them!\n"
          },
          "metadata": {}
        }
      ],
      "source": [
        "response = client.models.generate_content(\n",
        "    model=MODEL_ID,\n",
        "    contents=PROMPT,\n",
        ")\n",
        "\n",
        "display(Markdown(response.text))"
      ]
    },
    {
      "cell_type": "markdown",
      "metadata": {
        "id": "5d7cb7cceb99"
      },
      "source": [
        "### Text generation grounded in Google Search results\n",
        "\n",
        "You can add the `tools` keyword argument with a `Tool` including `GoogleSearch` to instruct Gemini to first perform a Google Search with the prompt, then construct an answer based on the web search results.\n",
        "\n",
        "The search queries and [Search Entry Point](https://cloud.google.com/vertex-ai/generative-ai/docs/multimodal/grounding-search-entry-points) are available for each `Candidate` in the response."
      ]
    },
    {
      "cell_type": "code",
      "execution_count": null,
      "metadata": {
        "id": "1d9fb83b0ab9",
        "colab": {
          "base_uri": "https://localhost:8080/",
          "height": 104
        },
        "outputId": "fa03e89a-766f-473a-a70a-24ff9e6dc1fb"
      },
      "outputs": [
        {
          "output_type": "display_data",
          "data": {
            "text/plain": [
              "<IPython.core.display.Markdown object>"
            ],
            "text/markdown": "Okay, I can help you with that. To provide you with the most accurate information about the next solar eclipse in the US, I will search for it.\n\nThe next solar eclipse in the US will be a partial solar eclipse on August 12, 2026. If you're looking for a total solar eclipse, the next one visible in the US will be on March 30, 2033, but it will only be visible in Alaska. For a total solar eclipse in the contiguous United States, you'll have to wait until August 23, 2044.\n"
          },
          "metadata": {}
        }
      ],
      "source": [
        "google_search_tool = Tool(google_search=GoogleSearch())\n",
        "\n",
        "response = client.models.generate_content(\n",
        "    model=MODEL_ID,\n",
        "    contents=PROMPT,\n",
        "    config=GenerateContentConfig(tools=[google_search_tool]),\n",
        ")\n",
        "\n",
        "display(Markdown(response.text))"
      ]
    },
    {
      "cell_type": "markdown",
      "metadata": {
        "id": "6d3920bb2ac0"
      },
      "source": [
        "Note that the response without grounding only has limited information from the LLM about solar eclipses. Whereas the response that was grounded in web search results contains the most up to date information from web search results that are returned as part of the LLM with grounding request."
      ]
    },
    {
      "cell_type": "markdown",
      "metadata": {
        "id": "77f0800f8762"
      },
      "source": [
        "## Example: Grounding with custom documents and data\n",
        "\n",
        "In this example, you'll compare LLM responses with no grounding with responses that are grounded in the [results of a data store in Vertex AI Search](https://cloud.google.com/generative-ai-app-builder/docs/create-datastore-ingest).\n",
        "\n",
        "The data store will contain internal documents from a fictional bank, Cymbal Bank. These documents aren't available on the public internet, so the Gemini model won't have any information about them by default."
      ]
    },
    {
      "cell_type": "markdown",
      "metadata": {
        "id": "1b308548c68b"
      },
      "source": [
        "### Creating a data store in Vertex AI Search\n",
        "\n",
        "In this example, you'll use a Google Cloud Storage bucket with a few sample internal documents for our bank. There's some docs about booking business travel, strategic plan for this Fiscal Year and HR docs describing the different jobs available in the company.\n",
        "\n",
        "Follow the tutorial steps in the Vertex AI Search documentation to:\n",
        "\n",
        "1. [Create a data store with unstructured data](https://cloud.google.com/generative-ai-app-builder/docs/try-enterprise-search#unstructured-data) that loads in documents from the GCS folder `gs://cloud-samples-data/gen-app-builder/search/cymbal-bank-employee`.\n",
        "2. [Create a search app](https://cloud.google.com/generative-ai-app-builder/docs/try-enterprise-search#create_a_search_app) that is attached to that data store. You should also enable the **Enterprise edition features** so that you can search indexed records within the data store.\n",
        "\n",
        "Note: The data store must be in the same project that you are using for Gemini.\n",
        "\n",
        "You can also follow this notebook to do it with code. [Create a Vertex AI Search Datastore and App\n",
        "](https://github.com/GoogleCloudPlatform/generative-ai/blob/main/search/create_datastore_and_search.ipynb)\n",
        "\n",
        "Once you've created a data store, obtain the Data Store ID and input it below.\n",
        "\n",
        "Note: You will need to wait for data ingestion to finish before using a data store with grounding. For more information, see [create a data store](https://cloud.google.com/generative-ai-app-builder/docs/create-data-store-es)."
      ]
    },
    {
      "cell_type": "code",
      "execution_count": null,
      "metadata": {
        "id": "fcd767476241"
      },
      "outputs": [],
      "source": [
        "\n",
        "DATA_STORE_PROJECT_ID = PROJECT_ID  # @param {type:\"string\"}\n",
        "DATA_STORE_REGION = \"global\"  # @param {type:\"string\"}\n",
        "# Replace this with your data store ID from Vertex AI Search\n",
        "DATA_STORE_ID = \"test_1747722446623\"  # @param {type:\"string\"}\n",
        "\n",
        "DATA_STORE_NAME = f\"projects/{PROJECT_ID}/locations/{DATA_STORE_REGION}/collections/default_collection/dataStores/{DATA_STORE_ID}\""
      ]
    },
    {
      "cell_type": "markdown",
      "metadata": {
        "id": "ccc156676e0a"
      },
      "source": [
        "Now you can ask a question about the company culture:"
      ]
    },
    {
      "cell_type": "code",
      "execution_count": null,
      "metadata": {
        "id": "9c1e1b1743bd"
      },
      "outputs": [],
      "source": [
        "PROMPT = \"What is the company culture like?\""
      ]
    },
    {
      "cell_type": "markdown",
      "metadata": {
        "id": "f365681544bb"
      },
      "source": [
        "### Text generation without grounding\n",
        "\n",
        "Make a prediction request to the LLM with no grounding:"
      ]
    },
    {
      "cell_type": "code",
      "execution_count": null,
      "metadata": {
        "id": "299818ae71e9",
        "colab": {
          "base_uri": "https://localhost:8080/",
          "height": 261
        },
        "outputId": "04fbd915-142d-43e5-e90b-7710796ce1fa"
      },
      "outputs": [
        {
          "output_type": "display_data",
          "data": {
            "text/plain": [
              "<IPython.core.display.Markdown object>"
            ],
            "text/markdown": "To give you the best answer about a company's culture, I need more information. Tell me:\n\n*   **Which company are you asking about?** Please provide the company name.\n*   **If possible, tell me the specific location or team you're interested in.** Company culture can vary greatly between different offices or departments.\n\nOnce I know the specific company, I can start to gather information from a variety of sources, such as:\n\n*   **Company Website:** Look for mission statements, values, and \"about us\" pages.\n*   **Employee Reviews:** Sites like Glassdoor, Indeed, and Comparably often have employee reviews that discuss company culture.\n*   **News Articles and Press Releases:** See how the company portrays itself in the media.\n*   **Social Media:** Check the company's LinkedIn, Twitter, Facebook, and Instagram pages to get a sense of their tone and values.\n*   **Industry Reports:** Sometimes, industry-specific reports will comment on company culture.\n*   **Personal Network:** If you know anyone who works (or has worked) at the company, reach out and ask them about their experiences.\n\nIf you can give me the company name, I can provide a much more helpful and specific answer."
          },
          "metadata": {}
        }
      ],
      "source": [
        "response = client.models.generate_content(\n",
        "    model=MODEL_ID,\n",
        "    contents=PROMPT,\n",
        ")\n",
        "\n",
        "display(Markdown(response.text))"
      ]
    },
    {
      "cell_type": "markdown",
      "metadata": {
        "id": "073f2ec42ff6"
      },
      "source": [
        "### Text generation grounded in Vertex AI Search results\n",
        "\n",
        "Now we can add the `tools` keyword arg with a grounding tool of `grounding.VertexAISearch()` to instruct the LLM to first perform a search within your custom data store, then construct an answer based on the relevant documents:"
      ]
    },
    {
      "cell_type": "code",
      "execution_count": null,
      "metadata": {
        "id": "d4c5d53a37b4",
        "colab": {
          "base_uri": "https://localhost:8080/",
          "height": 200
        },
        "outputId": "bcf2c254-baf9-4948-d0ce-6174b02bda19"
      },
      "outputs": [
        {
          "output_type": "display_data",
          "data": {
            "text/plain": [
              "<IPython.core.display.Markdown object>"
            ],
            "text/markdown": "Cymbal Bank has a fast-paced, results-oriented company culture. They value:\n\n*   Collaboration\n*   Communication\n*   Teamwork\n*   Improvement and innovation\n\nCymbal Bank also strives to have an inclusive and diverse workforce, encouraging employees to be open-minded, respectful, inclusive and to be themselves."
          },
          "metadata": {}
        },
        {
          "output_type": "stream",
          "name": "stdout",
          "text": [
            "grounding_chunks=[GroundingChunk(retrieved_context=GroundingChunkRetrievedContext(text='6. Beyond your first year\\nAfter your first year at Cymbal Bank, you will have the opportunity to continue to grow and develop. You will have\\nthe opportunity to take on new challenges and to take on new roles. You will also have the opportunity to learn\\nfrom your colleagues and to mentor them. 7. Resources\\nIf you have any questions or concerns, please do not hesitate to reach out to your manager, HR department, or\\nteam members. We are here to help you succeed. 8. Welcome to the team! We are excited to have you on our team and we look forward to working with you. Tools to get familiar with Cymbal Drive: Our internal communication tool. Cymbal Expense: Our expense tracking tool. Cymbal Fly: Our travel booking tool. Cymbal Stay: Our hotel booking tool. Cymbal Work: Our project management tool. Company culture\\nCymbal Bank is a fast-paced, results-oriented company. We are always looking for ways to improve and innovate. We value collaboration, communication, and teamwork. \\n...\\nCymbal Bank New Employe Guide Updated August 11, 2023\\nAuthored by Lewis Cymbal, CEO 1. Welcome to Cymbal Bank\\nCongratulations on joining Cymbal Bank! We are excited to have you on our team. 2. Your first day\\nYour first day at Cymbal Bank will be a busy one. You will meet with your manager, HR department, and team\\nmembers. You will also be given a tour of the office and introduced to your new colleagues. 3. Your first week\\nIn your first week at Cymbal Bank, you will be given a lot of information to take in. You will learn about the company\\nculture, the products and services that we offer, and the expectations that we have for our employees. You will\\nalso be given a lot of paperwork to fill out. 4. Your first month\\nIn your first month at Cymbal Bank, you will start to get into the swing of things. You will start to learn your job and\\nthe responsibilities that come with it. You will also start to build relationships with your colleagues. 5. Your first year\\nIn your first year at Cymbal Bank, you will continue to learn and grow. You will start to take on more responsibility\\nand you will start to make a real impact on the company. You will also start to build a network of colleagues and\\nmentors. ', title='Cymbal Bank New Employee Guide', uri='gs://cloud-samples-data/gen-app-builder/search/cymbal-bank-employee/Cymbal Bank New Employee Guide.pdf'), web=None), GroundingChunk(retrieved_context=GroundingChunkRetrievedContext(text=\"Cymbal Bank Company Culture Updated August 11, 2023\\nAuthored by Lewis Cymbal, CEO 1. Be open-minded\\nOne of the most important things you can do to be a productive member of an inclusive and diverse workforce is\\nto be open-minded. This means being willing to learn about different cultures and perspectives, and being willing\\nto change your own views when necessary. It also means being respectful of others, even if you disagree with\\nthem. 2. Be respectful\\nRespect is essential for any productive workplace, but it is especially important in an inclusive and diverse\\nworkforce. This means being respectful of other people's cultures, religions, and sexual orientations. It also means\\nbeing respectful of other people's opinions, even if you disagree with them. 3. Be inclusive\\nInclusion is another important part of being a productive member of an inclusive and diverse workforce. This\\nmeans making sure that everyone feels welcome and included, regardless of their background or identity. It also\\nmeans making sure that everyone has an equal opportunity to participate and contribute. 4. Be diverse\\nDiversity is a strength, not a weakness. This means embracing different perspectives and experiences, and using\\nthem to create a more innovative and successful workplace. It also means being willing to challenge your own\\nbiases and assumptions. \\n...\\nCelebrate the diversity of your workplace and\\nthe contributions of all employees. \\n...\\n5. Be yourself\\nFinally, it is important to be yourself in an inclusive and diverse workforce. This means being honest about who you\\nare and what you believe in. It also means being comfortable with your own identity and being proud of who you are. Following these tips will help you to be a productive member of an inclusive and diverse workforce. By being\\nopen-minded, respectful, inclusive, diverse, and yourself, you can help to create a more positive and productive\\nworkplace for everyone. Here are some additional tips for working in an inclusive and diverse environment: Be aware of your own biases. We all have biases, whether we are aware of them or not. It is important to be\\naware of your own biases so that you can work to overcome them. Be open to feedback. If you are working in an inclusive and diverse environment, it is important to be open\\nto feedback. This will help you to learn and grow. Be willing to change. Change is inevitable, especially in an inclusive and diverse environment. Be willing to\\nchange your own views and behaviors when necessary. Be patient. It takes time to build trust and understanding in an inclusive and diverse environment. Be\\npatient with yourself and with others. Celebrate diversity. Diversity is a strength, not a weakness. \", title='Cymbal Bank Company Culture', uri='gs://cloud-samples-data/gen-app-builder/search/cymbal-bank-employee/Cymbal Bank Company Culture.pdf'), web=None)] grounding_supports=[GroundingSupport(confidence_scores=[0.98221177], grounding_chunk_indices=[0], segment=Segment(end_index=63, part_index=None, start_index=None, text='Cymbal Bank has a fast-paced, results-oriented company culture.')), GroundingSupport(confidence_scores=[0.8730366], grounding_chunk_indices=[1], segment=Segment(end_index=311, part_index=None, start_index=158, text='Cymbal Bank also strives to have an inclusive and diverse workforce, encouraging employees to be open-minded, respectful, inclusive and to be themselves.'))] retrieval_metadata=None retrieval_queries=['company culture'] search_entry_point=None web_search_queries=None\n"
          ]
        }
      ],
      "source": [
        "vertex_ai_search_tool = Tool(\n",
        "    retrieval=Retrieval(vertex_ai_search=VertexAISearch(datastore=DATA_STORE_NAME))\n",
        ")\n",
        "\n",
        "response = client.models.generate_content(\n",
        "    model=MODEL_ID,\n",
        "    contents=\"What is the company culture like?\",\n",
        "    config=GenerateContentConfig(tools=[vertex_ai_search_tool]),\n",
        ")\n",
        "\n",
        "display(Markdown(response.text))\n",
        "\n",
        "print(response.candidates[0].grounding_metadata)"
      ]
    },
    {
      "cell_type": "markdown",
      "metadata": {
        "id": "e3f985c704cd"
      },
      "source": [
        "Note that the response without grounding doesn't have any context about what company we are asking about. Whereas the response that was grounded in Vertex AI Search results contains information from the documents provided, along with citations of the information.\n",
        "\n",
        "<div class=\"alert alert-block alert-warning\">\n",
        "<b>⚠️ Important notes:</b><br>\n",
        "<br>\n",
        "<b>If you get an error when running the previous cell:</b><br>\n",
        "&nbsp;&nbsp;&nbsp;&nbsp;In order for this sample notebook to work with data store in Vertex AI Search,<br>\n",
        "&nbsp;&nbsp;&nbsp;&nbsp;you'll need to create a <a href=\"https://cloud.google.com/generative-ai-app-builder/docs/try-enterprise-search#create_a_data_store\">data store</a> <b>and</b> a <a href=\"https://cloud.google.com/generative-ai-app-builder/docs/try-enterprise-search#create_a_search_app\">search app</a> associated with it in Vertex AI Search.<br>\n",
        "&nbsp;&nbsp;&nbsp;&nbsp;If you only create a data store, the previous request will return errors when making queries against the data store.\n",
        "<br><br>\n",
        "<b>If you get an empty response when running the previous cell:</b><br>\n",
        "&nbsp;&nbsp;&nbsp;&nbsp;You will need to wait for data ingestion to finish before using a data store with grounding.<br>\n",
        "&nbsp;&nbsp;&nbsp;&nbsp;For more information, see <a href=\"https://cloud.google.com/generative-ai-app-builder/docs/create-data-store-es\">create a data store</a>.\n",
        "</div>\n",
        "</div>"
      ]
    },
    {
      "cell_type": "markdown",
      "metadata": {
        "id": "54562717e2a4"
      },
      "source": [
        "## Example: Grounded chat responses\n",
        "\n",
        "You can also use grounding when working with chat models in Vertex AI. In this example, you'll compare LLM responses with no grounding with responses that are grounded in the results of a Google Search and a data store in Vertex AI Search."
      ]
    },
    {
      "cell_type": "code",
      "execution_count": null,
      "metadata": {
        "id": "490cf1ed3399"
      },
      "outputs": [],
      "source": [
        "PROMPT = \"What are managed datasets in Vertex AI?\"\n",
        "PROMPT_FOLLOWUP = \"What types of data can I use?\""
      ]
    },
    {
      "cell_type": "markdown",
      "metadata": {
        "id": "b59783e4f1ce"
      },
      "source": [
        "### Chat session grounded in Google Search results\n",
        "\n",
        "Now you can add the `tools` keyword arg with a Tool of `GoogleSearch` to instruct the chat model to first perform a Google Search with the prompt, then construct an answer based on the web search results:"
      ]
    },
    {
      "cell_type": "code",
      "execution_count": null,
      "metadata": {
        "id": "58edb2bd860f",
        "colab": {
          "base_uri": "https://localhost:8080/",
          "height": 747
        },
        "outputId": "8df650c6-7333-4795-9b39-cb56a1cc2c8b"
      },
      "outputs": [
        {
          "output_type": "display_data",
          "data": {
            "text/plain": [
              "<IPython.core.display.Markdown object>"
            ],
            "text/markdown": "In Vertex AI, managed datasets serve as a centralized repository designed for machine learning data, offering a structured approach to manage, prepare, and access data for training and serving models.\n\nHere's a breakdown of the key aspects:\n\n*   **Centralized Management:** They provide a single location within Vertex AI for storing and managing your machine learning data.\n*   **Data Preparation:** They support various data preparation tasks like cleaning, transformation, and encoding.\n*   **Integrated Model Training:** They seamlessly integrate into model training pipelines within Vertex AI, allowing direct utilization of datasets for training without extra setup.\n*   **Versioning:** Vertex AI datasets enhance governance through intrinsic versioning.\n*   **Access Control:** They offer cross-team access controls.\n*   **Data Splitting:** Managed datasets can automatically split data into training, test, and validation sets.\n*   **Data Lineage Tracking**: They help track lineage to models for governance and iterative development.\n*   **Performance Comparison**: They enable the comparison of AutoML and custom model performance using the same datasets.\n\nTo use managed datasets in Vertex AI:\n\n1.  **Create a Dataset:** Go to the Datasets section in Vertex AI and click \"Create Dataset.\" Choose the appropriate data type (Tabular, Image, Text, or Video) and name the dataset.\n2.  **Choose a Storage Location:** Specify where to store the dataset. You can import data from local files, Cloud Storage buckets, or BigQuery tables.\n3.  **Define Data Schema (Optional):** For tabular datasets, define the schema, including column names and data types.\n\nVertex AI passes metadata about your dataset to your training application by setting environment variables in your training container. Examples of such variables include: `AIP_DATA_FORMAT`, `AIP_TRAINING_DATA_URI`, `AIP_VALIDATION_DATA_URI`, and `AIP_TEST_DATA_URI`.\n"
          },
          "metadata": {}
        },
        {
          "output_type": "display_data",
          "data": {
            "text/plain": [
              "<IPython.core.display.Markdown object>"
            ],
            "text/markdown": "Vertex AI supports a wide range of data types for machine learning tasks:\n\n*   **Tabular Datasets:** These consist of structured data organized in rows and columns, typically in CSV or JSON format. They are suitable for classification, regression, and recommendation tasks.\n*   **Image Datasets:** These contain images and are used for tasks like image classification, object detection, and image segmentation. Supported image formats include JPEG, GIF, PNG, BMP, and ICO.\n*   **Text Datasets:** These consist of written text and are used for natural language processing tasks like text classification, sentiment analysis, and text generation.\n*   **Video Datasets:** These contain video data and can be used for video classification, object tracking, and action recognition. Video input can include frames-only or frames with audio.\n*   **Audio Datasets:** Audio data can be used in multimodal prompts for generating text.\n*   **Documents:** PDF documents are supported and treated as images, where each page is considered one image.\n\nVertex AI also supports various data transformations, including:\n\n*   **Categorical:** For categorical features.\n*   **Numeric:** For numerical features.\n*   **Text:** For text-based features.\n*   **Timestamp:** For date and time features.\n\nYou can import data from various sources, including local files, Cloud Storage buckets, and BigQuery tables.\n"
          },
          "metadata": {}
        }
      ],
      "source": [
        "chat = client.chats.create(\n",
        "    model=MODEL_ID,\n",
        "    config=GenerateContentConfig(tools=[Tool(google_search=GoogleSearch())]),\n",
        ")\n",
        "\n",
        "response = chat.send_message(PROMPT)\n",
        "display(Markdown(response.text))\n",
        "\n",
        "response = chat.send_message(PROMPT_FOLLOWUP)\n",
        "display(Markdown(response.text))"
      ]
    },
    {
      "cell_type": "markdown",
      "metadata": {
        "id": "87be7f661f14"
      },
      "source": [
        "### Chat session grounded in Vertex AI Search results\n",
        "\n",
        "Now we can add the `tools` keyword arg with a grounding tool of `grounding.VertexAISearch()` to instruct the chat model to first perform a search within your custom data store, then construct an answer based on the relevant documents:"
      ]
    },
    {
      "cell_type": "code",
      "execution_count": null,
      "metadata": {
        "id": "8fdad0c3f1f3"
      },
      "outputs": [],
      "source": [
        "PROMPT = \"How do I book business travel?\"\n",
        "PROMPT_FOLLOWUP = \"Give me more details.\""
      ]
    },
    {
      "cell_type": "code",
      "execution_count": null,
      "metadata": {
        "id": "1a824202a8f0",
        "colab": {
          "base_uri": "https://localhost:8080/",
          "height": 1000
        },
        "outputId": "1cfc9aa0-94d5-477b-e9e9-9be05badce2e"
      },
      "outputs": [
        {
          "output_type": "display_data",
          "data": {
            "text/plain": [
              "<IPython.core.display.Markdown object>"
            ],
            "text/markdown": "The best way to book business travel generally involves these steps:\n\n1.  **Check Company Policy:** See if your company has a preferred booking tool, specific travel agencies they work with, or any guidelines you need to follow. Some companies have very specific rules about booking the lowest fares, using certain vendors, or pre-approvals.\n\n2.  **Use Company Travel Tools/Agencies:** If your company has designated tools or agencies, use them. These are often set up to ensure compliance with travel policies and can streamline expense reporting. For example, the Cymbal Bank Business Travel Guide suggests using tools like \"Cymbal Fly\" for flights, \"Cymbal Stay\" for hotels, and \"Cymbal Drive\" for rental cars.\n\n3.  **Book Flights, Hotels, and Rental Cars:** Whether through a company tool or on your own (if allowed), book your flights, hotels, and any rental cars you might need. When booking, keep in mind factors such as:\n\n    *   **Location:** Choose hotels close to your meeting locations or with good transportation access.\n    *   **Amenities:** Consider if you need amenities like Wi-Fi, a business center, or free breakfast.\n    *   **Loyalty Programs:** Use your loyalty program accounts to earn points and miles.\n"
          },
          "metadata": {}
        },
        {
          "output_type": "display_data",
          "data": {
            "text/plain": [
              "<IPython.core.display.Markdown object>"
            ],
            "text/markdown": "Okay, let's break down the business travel booking process into greater detail, covering key considerations and steps:\n\n**1. Understanding and Adhering to Company Travel Policy**\n\n*   **Review the Policy:** Obtain and thoroughly read your company's travel policy. This document is your guide and outlines what is expected of you when booking travel.\n*   **Key Elements:** Pay close attention to aspects such as:\n    *   **Approved Booking Channels:** Are you required to use a specific online booking tool, travel agency, or internal travel department?\n    *   **Preferred Vendors:** Does the company have negotiated rates or partnerships with specific airlines, hotels, or car rental companies?\n    *   **Spending Limits:** Are there maximum amounts you can spend on flights, hotels, meals, or other travel expenses?\n    *   ** класу Travel Classes:** Are there restrictions on booking business or first-class flights or suites?\n    *   **Pre-Approval Requirements:** Do you need to obtain approval from your manager or a designated approver before booking travel?\n    *   **Documentation:** What receipts and documentation are required for expense reimbursement?\n\n**2. Choosing Your Booking Method**\n\n*   **Company-Designated Tools:** If your company mandates the use of a specific online booking tool (like Concur, Egencia, or a custom platform), start there. These tools are pre-configured to enforce company policy and may offer negotiated rates.\n*   **Travel Agency:** Some companies prefer you book through a travel agency. The agency can handle all aspects of your travel arrangements, ensure policy compliance, and provide support in case of issues.\n*   **Self-Booking (If Allowed):** If your company allows self-booking, you have more flexibility. However, you are also fully responsible for adhering to company policy. You can use airline/hotel websites, online travel agencies (OTAs) like Expedia or Booking.com, or metasearch engines.\n\n**3. Booking Flights**\n\n*   **Consider Flight Times and Connections:** Choose flights that align with your meeting schedule and minimize travel time. Factor in layovers, potential delays, and time zone changes.\n*   **Compare Prices:** Use multiple sources to compare flight prices. Check airline websites, OTAs, and metasearch engines (like Google Flights or Kayak).\n*   **Airline Loyalty Programs:** If you are not restricted to a specific airline, book with airlines where you have frequent flyer status to earn points and potentially receive upgrades.\n*   **Seat Selection:** Select your seat in advance, if possible. Consider factors like legroom, proximity to restrooms, and aisle vs. window preferences.\n*   **Check Baggage Allowance:** Be aware of baggage allowance restrictions and fees, especially if you plan to check luggage.\n\n**4. Booking Hotels**\n\n*   **Location, Location, Location:** Choose a hotel that is conveniently located near your meeting location, client offices, or public transportation. Consider the commute time, especially during peak hours.\n*   **Business Amenities:** Ensure the hotel offers amenities that are important for business travelers, such as free Wi-Fi, a business center, meeting rooms, early check-in/late check-out options (if needed), and a comfortable workspace in your room.\n*   **Hotel Loyalty Programs:** Book with hotels where you have loyalty status to earn points and receive perks like free upgrades, breakfast, or Wi-Fi.\n*   **Read Reviews:** Check online reviews from other business travelers to get an idea of the hotel's quality, service, and suitability for business trips.\n*   **Negotiated Rates:** Inquire if your company has negotiated rates with specific hotels in the area.\n\n**5. Booking Rental Cars (If Necessary)**\n\n*   **Do You Need a Car?** Consider whether you truly need a rental car. Public transportation, ride-sharing services (like Uber or Lyft), or taxis may be more cost-effective and convenient in some cities.\n*   **Rental Car Companies:** Check prices from multiple rental car companies.\n*   **Insurance:** Understand the insurance coverage provided by the rental car company and your personal auto insurance policy. You may also have coverage through your credit card.\n*   **Size and Type of Vehicle:** Choose a vehicle that is appropriate for your needs. A compact car may be sufficient for solo travel in a city, while a larger vehicle may be needed for transporting colleagues or equipment.\n*   **Location:** Pick up and return the car at a convenient location, such as the airport or near your hotel.\n\n**6. Expense Reporting**\n\n*   **Keep All Receipts:** Save all receipts for flights, hotels, rental cars, meals, and other travel expenses.\n*   **Expense Report Software:** Utilize your company's expense reporting software (like Concur, Expensify, or similar).\n*   **Policy Compliance:** Ensure all expenses comply with the company's travel policy.\n*   **Timely Submission:** Submit your expense report promptly to receive reimbursement.\n\nTo get the most relevant information, I recommend checking your company's internal resources for specific policies and procedures.\n"
          },
          "metadata": {}
        }
      ],
      "source": [
        "chat = client.chats.create(\n",
        "    model=MODEL_ID,\n",
        "    config=GenerateContentConfig(\n",
        "        tools=[\n",
        "            Tool(\n",
        "                retrieval=Retrieval(\n",
        "                    vertex_ai_search=VertexAISearch(datastore=DATA_STORE_NAME)\n",
        "                )\n",
        "            )\n",
        "        ]\n",
        "    ),\n",
        ")\n",
        "\n",
        "response = chat.send_message(PROMPT)\n",
        "display(Markdown(response.text))\n",
        "\n",
        "response = chat.send_message(PROMPT_FOLLOWUP)\n",
        "display(Markdown(response.text))"
      ]
    },
    {
      "cell_type": "markdown",
      "metadata": {
        "id": "TpV-iwP9qw9c"
      },
      "source": [
        "## Cleaning up\n",
        "\n",
        "To avoid incurring charges to your Google Cloud account for the resources used in this notebook, follow these steps:\n",
        "\n",
        "1. To avoid unnecessary Google Cloud charges, use the [Google Cloud console](https://console.cloud.google.com/) to delete your project if you do not need it. Learn more in the Google Cloud documentation for [managing and deleting your project](https://cloud.google.com/resource-manager/docs/creating-managing-projects).\n",
        "1. If you used an existing Google Cloud project, delete the resources you created to avoid incurring charges to your account. For more information, refer to the documentation to [Delete data from a data store in Vertex AI Search](https://cloud.google.com/generative-ai-app-builder/docs/delete-datastores), then delete your data store.\n",
        "1. Disable the [Vertex AI Search and Conversation API](https://console.cloud.google.com/apis/api/discoveryengine.googleapis.com) and [Vertex AI API](https://console.cloud.google.com/apis/api/aiplatform.googleapis.com) in the Google Cloud Console."
      ]
    }
  ],
  "metadata": {
    "colab": {
      "provenance": [],
      "name": "Conchita_intro_grounding_gemini_2025.ipynb"
    },
    "kernelspec": {
      "display_name": "Python 3",
      "name": "python3"
    }
  },
  "nbformat": 4,
  "nbformat_minor": 0
}